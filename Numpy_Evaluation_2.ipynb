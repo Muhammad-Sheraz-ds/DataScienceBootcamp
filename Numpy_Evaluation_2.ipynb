{
  "cells": [
    {
      "cell_type": "markdown",
      "id": "7ec98f23",
      "metadata": {
        "id": "7ec98f23"
      },
      "source": [
        "### Questions 1\n",
        "\n",
        "Create a matrix of 5x5 with random integers, after that swap its first and last rows."
      ]
    },
    {
      "cell_type": "code",
      "execution_count": null,
      "id": "fbab7daa",
      "metadata": {
        "colab": {
          "base_uri": "https://localhost:8080/"
        },
        "id": "fbab7daa",
        "outputId": "51154e95-82d8-4675-fce4-0d2d12835db8"
      },
      "outputs": [
        {
          "output_type": "stream",
          "name": "stdout",
          "text": [
            " Orginal array: \n",
            " [[ 7 17 18  4 16]\n",
            " [13  4 11 14  5]\n",
            " [14 10  4 21 23]\n",
            " [ 6 27  6  6 24]\n",
            " [ 1 15 24 24  5]]\n",
            " \n",
            "Swaped array: \n",
            " [[ 1 15 24 24  5]\n",
            " [13  4 11 14  5]\n",
            " [14 10  4 21 23]\n",
            " [ 6 27  6  6 24]\n",
            " [ 7 17 18  4 16]]\n"
          ]
        }
      ],
      "source": [
        "import numpy as np\n",
        "array=np.random.randint(1,30,25).reshape((5,5))\n",
        "print(\" Orginal array: \\n\",array)\n",
        "array[:1,:],array[4::,:]=array[4::,:].copy(),array[:1].copy()\n",
        "print(\" \\nSwaped array: \\n\",array)\n"
      ]
    },
    {
      "cell_type": "markdown",
      "id": "804d6649",
      "metadata": {
        "id": "804d6649"
      },
      "source": [
        "### Question 2\n",
        "\n",
        "Create a 2D array, remove all rows that contain at least one zero."
      ]
    },
    {
      "cell_type": "code",
      "execution_count": null,
      "id": "26e7b7e4",
      "metadata": {
        "colab": {
          "base_uri": "https://localhost:8080/"
        },
        "id": "26e7b7e4",
        "outputId": "1d17d771-3bbb-4a0f-b126-10d8cc0c22ab"
      },
      "outputs": [
        {
          "output_type": "stream",
          "name": "stdout",
          "text": [
            "Orginal Array\n",
            " [[-5  3 -2 -3  0]\n",
            " [ 2 -1  1 -4  3]\n",
            " [ 2 -5  0 -2  2]\n",
            " [ 2  3  3  2  4]\n",
            " [ 2  0 -4  0 -4]]\n",
            "\n",
            "After arrray\n",
            " [[-5  3 -2 -3  0]]\n"
          ]
        }
      ],
      "source": [
        "import numpy as np\n",
        "array=np.random.randint(-5,5,25).reshape(5,5)\n",
        "print(\"Orginal Array\\n\",array)\n",
        "nonarray=np.all(array!=0,axis=0)\n",
        "array=array[nonarray]\n",
        "\n",
        "print(\"\\nAfter arrray\\n\",array)\n"
      ]
    },
    {
      "cell_type": "markdown",
      "id": "2eaedae6",
      "metadata": {
        "id": "2eaedae6"
      },
      "source": [
        "### Question 3\n",
        "\n",
        "Write a NumPy program to find the real and imaginary parts of an array of complex numbers.<br>\n",
        "Original array [ 1.00000000+0.j 0.70710678+0.70710678j]"
      ]
    },
    {
      "cell_type": "code",
      "execution_count": 75,
      "id": "5e2d4526",
      "metadata": {
        "id": "5e2d4526",
        "colab": {
          "base_uri": "https://localhost:8080/"
        },
        "outputId": "00af84a8-1a67-4140-d90c-430fad9a7c31"
      },
      "outputs": [
        {
          "output_type": "stream",
          "name": "stdout",
          "text": [
            "Original array: [1.        +0.j         0.70710678+0.70710678j]\n",
            "Real parts: [1.+0.j         0.+0.70710678j]\n",
            "Imaginary parts: [1.         0.70710678]\n"
          ]
        }
      ],
      "source": [
        "import numpy as np\n",
        "def real_imag(arr):\n",
        "    real_part = arr + 0 - arr.imag\n",
        "    imag_part = arr.real\n",
        "\n",
        "    return real_part, imag_part\n",
        "\n",
        "original_array = np.array([1.00000000 + 0.j, 0.70710678 + 0.70710678j])\n",
        "\n",
        "# Finding real and imaginary parts using custom function\n",
        "real_parts, imag_parts = real_imag(original_array)\n",
        "\n",
        "# Displaying the results\n",
        "print(\"Original array:\", original_array)\n",
        "print(\"Real parts:\", real_parts)\n",
        "print(\"Imaginary parts:\", imag_parts)\n"
      ]
    },
    {
      "cell_type": "markdown",
      "id": "5d22a191",
      "metadata": {
        "id": "5d22a191"
      },
      "source": [
        "### Question 4\n",
        "\n",
        "Write a NumPy program to remove the duplicate elements of an array.<br>\n",
        "Original array:\n",
        "[10 10 20 20 30 30]\n"
      ]
    },
    {
      "cell_type": "code",
      "execution_count": null,
      "id": "39a6deaf",
      "metadata": {
        "colab": {
          "base_uri": "https://localhost:8080/"
        },
        "id": "39a6deaf",
        "outputId": "6cda1b13-ce9b-4033-8d8b-0530041cb3b2"
      },
      "outputs": [
        {
          "output_type": "execute_result",
          "data": {
            "text/plain": [
              "array([10, 20, 30])"
            ]
          },
          "metadata": {},
          "execution_count": 29
        }
      ],
      "source": [
        "import numpy as np\n",
        "array = np.array([10,10,20,20,30,30])\n",
        "removed=np.unique(array)\n",
        "removed"
      ]
    },
    {
      "cell_type": "markdown",
      "id": "80f3538a",
      "metadata": {
        "id": "80f3538a"
      },
      "source": [
        "### Question 5\n",
        "\n",
        "Write a NumPy program to create a 3x3x3 array with random values."
      ]
    },
    {
      "cell_type": "code",
      "execution_count": null,
      "id": "462e67c5",
      "metadata": {
        "colab": {
          "base_uri": "https://localhost:8080/"
        },
        "id": "462e67c5",
        "outputId": "41bca760-147e-4aca-88bb-6c920b019c1c"
      },
      "outputs": [
        {
          "output_type": "execute_result",
          "data": {
            "text/plain": [
              "array([[[23, 28, 26],\n",
              "        [ 6, 28, 24],\n",
              "        [ 2, 22, 28]],\n",
              "\n",
              "       [[15, 13,  2],\n",
              "        [23,  8, 15],\n",
              "        [18, 12,  1]],\n",
              "\n",
              "       [[26, 26, 27],\n",
              "        [ 8, 26, 18],\n",
              "        [23,  9, 19]]])"
            ]
          },
          "metadata": {},
          "execution_count": 30
        }
      ],
      "source": [
        "import numpy as np\n",
        "array=np.random.randint(1,30,27).reshape((3,3,3))\n",
        "array"
      ]
    },
    {
      "cell_type": "markdown",
      "id": "abd66406",
      "metadata": {
        "id": "abd66406"
      },
      "source": [
        "### Question 6\n",
        "\n",
        "Write a NumPy program to create a random vector of size 10 and sort it.\n",
        "<b>Note:<\\b> Do not use builtin sorting function"
      ]
    },
    {
      "cell_type": "code",
      "execution_count": null,
      "id": "9282c068",
      "metadata": {
        "colab": {
          "base_uri": "https://localhost:8080/"
        },
        "id": "9282c068",
        "outputId": "151eb0c5-8ef5-4e38-d577-0e48135c3ad6"
      },
      "outputs": [
        {
          "output_type": "stream",
          "name": "stdout",
          "text": [
            "\n",
            "Array after sorted: [ 3  3  8  8  8 10 12 12 16 16]\n"
          ]
        }
      ],
      "source": [
        "array=np.random.randint(1,20,10)\n",
        "for i in range(10):\n",
        "    for j in range(9):\n",
        "        if array[j] > array[j + 1]:\n",
        "            temp = array[j]\n",
        "            array[j] = array[j + 1]\n",
        "            array[j + 1] = temp\n",
        "\n",
        "print(\"\\nArray after sorted:\", array)\n",
        "\n"
      ]
    },
    {
      "cell_type": "markdown",
      "id": "e0c1e8bb",
      "metadata": {
        "id": "e0c1e8bb"
      },
      "source": [
        "### Question 7\n",
        "\n",
        "Write a NumPy program to check two random arrays are equal or not."
      ]
    },
    {
      "cell_type": "code",
      "execution_count": null,
      "id": "e9c571cc",
      "metadata": {
        "colab": {
          "base_uri": "https://localhost:8080/"
        },
        "id": "e9c571cc",
        "outputId": "e9cbbf1b-af74-4b3d-e102-5aebd5206a83"
      },
      "outputs": [
        {
          "output_type": "execute_result",
          "data": {
            "text/plain": [
              "True"
            ]
          },
          "metadata": {},
          "execution_count": 45
        }
      ],
      "source": [
        "array1=np.array([1,2,3,4,5])\n",
        "array2=np.array([1,2,3,4,5])\n",
        "result=np.array_equal(array1,array2)\n",
        "result"
      ]
    },
    {
      "cell_type": "markdown",
      "id": "234405fe",
      "metadata": {
        "id": "234405fe"
      },
      "source": [
        "### Question 8\n",
        "\n",
        "Write a NumPy program to sort a given array of shape 2 along the first axis, last axis and on flattened array.<br>\n",
        "\n",
        "Original array:<br>\n",
        "[[10 40]<br>\n",
        "[30 20]]"
      ]
    },
    {
      "cell_type": "code",
      "execution_count": null,
      "id": "1b349b99",
      "metadata": {
        "colab": {
          "base_uri": "https://localhost:8080/"
        },
        "id": "1b349b99",
        "outputId": "63f15d8b-ba7c-449f-eb30-476f0ebcbb76"
      },
      "outputs": [
        {
          "output_type": "stream",
          "name": "stdout",
          "text": [
            "[[10 40]\n",
            " [30 20]]\n",
            "[[10 20]\n",
            " [30 40]]\n",
            "[[10 40]\n",
            " [20 30]]\n",
            "[10 20 30 40]\n"
          ]
        }
      ],
      "source": [
        "import numpy as np\n",
        "original_array = np.array([[10, 40],\n",
        "                           [30, 20]])\n",
        "sorted_axis0 = np.sort(original_array, axis=0)\n",
        "sorted_last_axis = np.sort(original_array, axis=-1)\n",
        "sorted_flattened = np.sort(original_array.flatten())\n",
        "print(original_array)\n",
        "print(sorted_axis0)\n",
        "print(sorted_last_axis)\n",
        "print(sorted_flattened)\n"
      ]
    },
    {
      "cell_type": "markdown",
      "id": "2467ff08",
      "metadata": {
        "id": "2467ff08"
      },
      "source": [
        "### Question 9\n",
        "\n",
        "Write a NumPy program to get the floor, ceiling and truncated values of the elements of a numpy array.<br>\n",
        "\n",
        "Original array:<br>\n",
        "[-1.6 -1.5 -0.3 0.1 1.4 1.8 2. ]"
      ]
    },
    {
      "cell_type": "code",
      "execution_count": null,
      "id": "8fa2a543",
      "metadata": {
        "colab": {
          "base_uri": "https://localhost:8080/"
        },
        "id": "8fa2a543",
        "outputId": "b039357c-4926-4819-844b-97f20aacd9ca"
      },
      "outputs": [
        {
          "output_type": "stream",
          "name": "stdout",
          "text": [
            "Original array:\n",
            "[-1.6 -1.5 -0.3  0.1  1.4  1.8  2. ]\n",
            "\n",
            "Floor values:\n",
            "[-2. -2. -1.  0.  1.  1.  2.]\n",
            "\n",
            "Ceiling values:\n",
            "[-1. -1. -0.  1.  2.  2.  2.]\n",
            "\n",
            "Truncated values:\n",
            "[-1. -1. -0.  0.  1.  1.  2.]\n"
          ]
        }
      ],
      "source": [
        "import numpy as np\n",
        "original_array = np.array([-1.6, -1.5, -0.3, 0.1, 1.4, 1.8, 2.])\n",
        "floor_values = np.floor(original_array)\n",
        "ceiling_values = np.ceil(original_array)\n",
        "truncated_values = np.trunc(original_array)\n",
        "\n",
        "print(\"Original array:\")\n",
        "print(original_array)\n",
        "\n",
        "print(\"\\nFloor values:\")\n",
        "print(floor_values)\n",
        "\n",
        "print(\"\\nCeiling values:\")\n",
        "print(ceiling_values)\n",
        "\n",
        "print(\"\\nTruncated values:\")\n",
        "print(truncated_values)\n"
      ]
    },
    {
      "cell_type": "markdown",
      "id": "9434026c",
      "metadata": {
        "id": "9434026c"
      },
      "source": [
        "### Questions 10\n",
        "\n",
        "Write a NumPy program to display all the dates for the month of March, 2017"
      ]
    },
    {
      "cell_type": "code",
      "execution_count": null,
      "id": "67332471",
      "metadata": {
        "colab": {
          "base_uri": "https://localhost:8080/"
        },
        "id": "67332471",
        "outputId": "907ed86d-d3c1-4c7f-f8d5-c0cfa24644b2"
      },
      "outputs": [
        {
          "output_type": "stream",
          "name": "stdout",
          "text": [
            "2017-03-01 00:00:00\n",
            "2017-03-02 00:00:00\n",
            "2017-03-03 00:00:00\n",
            "2017-03-04 00:00:00\n",
            "2017-03-05 00:00:00\n",
            "2017-03-06 00:00:00\n",
            "2017-03-07 00:00:00\n",
            "2017-03-08 00:00:00\n",
            "2017-03-09 00:00:00\n",
            "2017-03-10 00:00:00\n",
            "2017-03-11 00:00:00\n",
            "2017-03-12 00:00:00\n",
            "2017-03-13 00:00:00\n",
            "2017-03-14 00:00:00\n",
            "2017-03-15 00:00:00\n",
            "2017-03-16 00:00:00\n",
            "2017-03-17 00:00:00\n",
            "2017-03-18 00:00:00\n",
            "2017-03-19 00:00:00\n",
            "2017-03-20 00:00:00\n",
            "2017-03-21 00:00:00\n",
            "2017-03-22 00:00:00\n",
            "2017-03-23 00:00:00\n",
            "2017-03-24 00:00:00\n",
            "2017-03-25 00:00:00\n",
            "2017-03-26 00:00:00\n",
            "2017-03-27 00:00:00\n",
            "2017-03-28 00:00:00\n",
            "2017-03-29 00:00:00\n",
            "2017-03-30 00:00:00\n",
            "2017-03-31 00:00:00\n"
          ]
        }
      ],
      "source": [
        "from datetime import datetime,timedelta\n",
        "start=datetime(2017,3,1)\n",
        "dates=[start+timedelta(days=i) for i in range(31)]\n",
        "for i in dates:\n",
        "  print(i)\n"
      ]
    },
    {
      "cell_type": "markdown",
      "id": "34eb3ebf",
      "metadata": {
        "id": "34eb3ebf"
      },
      "source": [
        "### Question 11\n",
        "\n",
        "Write a NumPy program to create 24 python datetime.datetime objects (single object for every hour), and then put it in a numpy array."
      ]
    },
    {
      "cell_type": "code",
      "execution_count": null,
      "id": "705b235f",
      "metadata": {
        "colab": {
          "base_uri": "https://localhost:8080/"
        },
        "id": "705b235f",
        "outputId": "3c122066-203f-4472-be21-48e8db736091"
      },
      "outputs": [
        {
          "output_type": "stream",
          "name": "stdout",
          "text": [
            "NumPy array of datetime objects:\n",
            "[datetime.datetime(2023, 1, 1, 0, 0) datetime.datetime(2023, 1, 1, 1, 0)\n",
            " datetime.datetime(2023, 1, 1, 2, 0) datetime.datetime(2023, 1, 1, 3, 0)\n",
            " datetime.datetime(2023, 1, 1, 4, 0) datetime.datetime(2023, 1, 1, 5, 0)\n",
            " datetime.datetime(2023, 1, 1, 6, 0) datetime.datetime(2023, 1, 1, 7, 0)\n",
            " datetime.datetime(2023, 1, 1, 8, 0) datetime.datetime(2023, 1, 1, 9, 0)\n",
            " datetime.datetime(2023, 1, 1, 10, 0) datetime.datetime(2023, 1, 1, 11, 0)\n",
            " datetime.datetime(2023, 1, 1, 12, 0) datetime.datetime(2023, 1, 1, 13, 0)\n",
            " datetime.datetime(2023, 1, 1, 14, 0) datetime.datetime(2023, 1, 1, 15, 0)\n",
            " datetime.datetime(2023, 1, 1, 16, 0) datetime.datetime(2023, 1, 1, 17, 0)\n",
            " datetime.datetime(2023, 1, 1, 18, 0) datetime.datetime(2023, 1, 1, 19, 0)\n",
            " datetime.datetime(2023, 1, 1, 20, 0) datetime.datetime(2023, 1, 1, 21, 0)\n",
            " datetime.datetime(2023, 1, 1, 22, 0) datetime.datetime(2023, 1, 1, 23, 0)]\n"
          ]
        }
      ],
      "source": [
        "import numpy as np\n",
        "from datetime import datetime, timedelta\n",
        "start_time = datetime(2023, 1, 1, 0, 0, 0)\n",
        "datetime_objects = [start_time + timedelta(hours=i) for i in range(24)]\n",
        "datetime_array = np.array(datetime_objects)\n",
        "print(\"NumPy array of datetime objects:\")\n",
        "print(datetime_array)\n"
      ]
    },
    {
      "cell_type": "markdown",
      "id": "e34c59d5",
      "metadata": {
        "id": "e34c59d5"
      },
      "source": [
        "### Question 12\n",
        "\n",
        "Write a NumPy program to concatenate element-wise two arrays of string.<br>\n",
        "<b>Example <\\b>\n",
        "Array1:<br>\n",
        "['Python' 'PHP']<br>\n",
        "Array2:<br>\n",
        "[' Java' ' C++']<br>\n",
        "new array:<br>\n",
        "['Python Java' 'PHP C++']<br>"
      ]
    },
    {
      "cell_type": "code",
      "execution_count": null,
      "id": "cd6b480c",
      "metadata": {
        "colab": {
          "base_uri": "https://localhost:8080/"
        },
        "id": "cd6b480c",
        "outputId": "0deea6f3-1f96-43da-d9a7-5105e7bb138f"
      },
      "outputs": [
        {
          "output_type": "stream",
          "name": "stdout",
          "text": [
            "Array1:\n",
            "['Python' 'PHP']\n",
            "Array2:\n",
            "[' Java' ' C++']\n",
            "Concatenated array:\n",
            "['Python Java' 'PHP C++']\n"
          ]
        }
      ],
      "source": [
        "import numpy as np\n",
        "array1 = np.array(['Python', 'PHP'])\n",
        "array2 = np.array([' Java', ' C++'])\n",
        "result_array = np.core.defchararray.add(array1, array2)\n",
        "print(\"Array1:\")\n",
        "print(array1)\n",
        "print(\"Array2:\")\n",
        "print(array2)\n",
        "print(\"Concatenated array:\")\n",
        "print(result_array)\n"
      ]
    }
  ],
  "metadata": {
    "kernelspec": {
      "display_name": "Python 3 (ipykernel)",
      "language": "python",
      "name": "python3"
    },
    "language_info": {
      "codemirror_mode": {
        "name": "ipython",
        "version": 3
      },
      "file_extension": ".py",
      "mimetype": "text/x-python",
      "name": "python",
      "nbconvert_exporter": "python",
      "pygments_lexer": "ipython3",
      "version": "3.10.9"
    },
    "colab": {
      "provenance": []
    }
  },
  "nbformat": 4,
  "nbformat_minor": 5
}
