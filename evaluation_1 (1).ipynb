{
  "cells": [
    {
      "cell_type": "markdown",
      "id": "3443b3de",
      "metadata": {
        "id": "3443b3de"
      },
      "source": [
        "### Question 1\n",
        "Given a list of integers nums and an integer target, return <i>indices of the two numbers such that they add up to target<i>. <br>\n",
        "\n",
        "Example 1:<br>\n",
        "\n",
        "Input: nums = [2,7,11,15], target = 9<br>\n",
        "Output: [0,1]"
      ]
    },
    {
      "cell_type": "code",
      "execution_count": null,
      "id": "ff1e5aa2",
      "metadata": {
        "id": "ff1e5aa2",
        "colab": {
          "base_uri": "https://localhost:8080/"
        },
        "outputId": "15e14539-1e2e-4c6a-bf3d-7cdabe025274"
      },
      "outputs": [
        {
          "output_type": "stream",
          "name": "stdout",
          "text": [
            "Enter listt: 4,2,56,24,11,6,9\n",
            "Input target: 35\n",
            "[4, 2, 56, 24, 11, 6, 9]\n",
            "[3, 4]\n"
          ]
        }
      ],
      "source": [
        "def funct(listt, targett):\n",
        "    output = []\n",
        "    for i in range(len(listt)):\n",
        "        for j in range(i + 1, len(listt)):\n",
        "            if listt[i] + listt[j] == targett:\n",
        "                output.append(i)\n",
        "                output.append(j)\n",
        "    return output\n",
        "\n",
        "listt = input(\"Enter listt: \")\n",
        "target = int(input(\"Input target: \"))\n",
        "listed = list(map(int, listt.split(',')))\n",
        "print(listed)\n",
        "result = funct(listed, target)\n",
        "print(result)\n"
      ]
    },
    {
      "cell_type": "markdown",
      "id": "e473f396",
      "metadata": {
        "id": "e473f396"
      },
      "source": [
        "### Question 2\n",
        "Given an integer x,<i> return true if x is a <br>\n",
        "palindrome</i><br>\n",
        ", and false otherwise. <br>\n",
        "Example 1:<br>\n",
        "\n",
        "Input: x = 121<br>\n",
        "Output: true<br>\n"
      ]
    },
    {
      "cell_type": "code",
      "execution_count": null,
      "id": "83e210c0",
      "metadata": {
        "colab": {
          "base_uri": "https://localhost:8080/"
        },
        "id": "83e210c0",
        "outputId": "1b348946-3249-40e5-b6e3-0c0a95e28966"
      },
      "outputs": [
        {
          "output_type": "stream",
          "name": "stdout",
          "text": [
            "Enter x: 121\n",
            "true\n"
          ]
        }
      ],
      "source": [
        "def isPalindrome(x):\n",
        "    strr = str(x)\n",
        "    reversestr = strr[::-1]\n",
        "    return strr == reversestr\n",
        "\n",
        "x=int(input(\"Enter x: \"))\n",
        "result = isPalindrome(x)\n",
        "if(result==True):\n",
        "  print(\"true\")\n",
        "else:\n",
        "  print(\"false\")\n"
      ]
    },
    {
      "cell_type": "markdown",
      "id": "a2f1a21b",
      "metadata": {
        "id": "a2f1a21b"
      },
      "source": [
        "### Question 3\n",
        "Given two strings needle and haystack, return the index of the first occurrence of needle in haystack, or -1 if needle is not part of haystack.<br>\n",
        "\n",
        "Example 1:<br>\n",
        "Input: haystack = \"sadbutsad\", needle = \"sad\" <br>\n",
        "Output: 0<br>\n",
        "Explanation: \"sad\" occurs at index 0 and 6.<br>\n",
        "The first occurrence is at index 0, so we return 0.<br>\n",
        "\n",
        "Example 2:<br>\n",
        "Input: haystack = \"apple\", needle = \"appo\"<br>\n",
        "Output: -1<br>\n",
        "Explanation: \"leeto\" did not occur in \"leetcode\", so we return -1.<br>"
      ]
    },
    {
      "cell_type": "code",
      "execution_count": null,
      "id": "d4aeb342",
      "metadata": {
        "id": "d4aeb342"
      },
      "outputs": [],
      "source": []
    },
    {
      "cell_type": "markdown",
      "id": "916e39e1",
      "metadata": {
        "id": "916e39e1"
      },
      "source": [
        "### Question 4\n",
        "\n",
        "Enter a number and have the program generate the Fibonacci sequence to that number or to the Nth number."
      ]
    },
    {
      "cell_type": "code",
      "execution_count": null,
      "id": "2bc0707f",
      "metadata": {
        "colab": {
          "base_uri": "https://localhost:8080/"
        },
        "id": "2bc0707f",
        "outputId": "c89caff5-7c31-4cba-bf66-aabea84f8545"
      },
      "outputs": [
        {
          "output_type": "stream",
          "name": "stdout",
          "text": [
            "Enter Nth: 18\n",
            "[0, 1, 1, 2, 3, 5, 8, 13]\n"
          ]
        }
      ],
      "source": [
        "def fibonacci(n):\n",
        "    sequence = [0, 1]\n",
        "    while sequence[-1] + sequence[-2] <= n:\n",
        "        next_term = sequence[-1] + sequence[-2]\n",
        "        sequence.append(next_term)\n",
        "    return sequence\n",
        "\n",
        "inputt = int(input(\"Enter Nth: \"))\n",
        "result = fibonacci(inputt)\n",
        "print(result)\n"
      ]
    },
    {
      "cell_type": "markdown",
      "id": "1f0c9bfa",
      "metadata": {
        "id": "1f0c9bfa"
      },
      "source": [
        "### Question 5\n",
        "Given two integers, return True if the sum of the integers is 20 or if one of the integers is 20. If not, return False"
      ]
    },
    {
      "cell_type": "code",
      "execution_count": null,
      "id": "4030ce7f",
      "metadata": {
        "colab": {
          "base_uri": "https://localhost:8080/"
        },
        "id": "4030ce7f",
        "outputId": "bfee6fd3-6c7a-424f-c698-73942c7a00d4"
      },
      "outputs": [
        {
          "output_type": "stream",
          "name": "stdout",
          "text": [
            "Enter X: 10\n",
            "Enter Y: 11\n",
            "False\n"
          ]
        }
      ],
      "source": [
        "def checker(x,y):\n",
        "  if x==20 or y==20:\n",
        "    return True\n",
        "  elif x+y==20:\n",
        "    return True\n",
        "  else:\n",
        "    return False\n",
        "\n",
        "x=int(input(\"Enter X: \"))\n",
        "y=int(input(\"Enter Y: \"))\n",
        "result=checker(x,y)\n",
        "if result==True:\n",
        "  print(\"True\")\n",
        "else:\n",
        "  print(\"False\")"
      ]
    },
    {
      "cell_type": "markdown",
      "id": "947855f9",
      "metadata": {
        "id": "947855f9"
      },
      "source": [
        "### Question 6\n",
        "\n",
        "Convert Celsius to Fahrenheit (Use list comprehension)<br>\n",
        "celsius = [0,10,20.1,34.5]"
      ]
    },
    {
      "cell_type": "code",
      "execution_count": null,
      "id": "ee590475",
      "metadata": {
        "colab": {
          "base_uri": "https://localhost:8080/"
        },
        "id": "ee590475",
        "outputId": "5fd5877b-ed46-4392-dc3f-6874d8190f81"
      },
      "outputs": [
        {
          "output_type": "stream",
          "name": "stdout",
          "text": [
            "Enter a list: 0,10,20.1\n",
            "[32.0, 50.0, 68.18]\n"
          ]
        }
      ],
      "source": [
        "def converter(numbers):\n",
        "    numbers = [helper(float(num)) for num in numbers]\n",
        "    return numbers\n",
        "\n",
        "def helper(n):\n",
        "    return n * (9/5) + 32\n",
        "\n",
        "numbers_input = input(\"Enter a list: \")\n",
        "numbers = numbers_input.split(',')\n",
        "\n",
        "fahrenheit = converter(numbers)\n",
        "print(fahrenheit)\n"
      ]
    },
    {
      "cell_type": "markdown",
      "id": "26d6af81",
      "metadata": {
        "id": "26d6af81"
      },
      "source": [
        "### Question 7\n",
        "\n",
        "Create a simple program to manage a stack? The stack should have a maximum limit of 10 elements. Include two functions: one for adding (pushing) an element to the stack and another for removing (popping) an element from the stack. If the stack is full and someone tries to add an element, return a message saying the stack is full. If the stack is empty and someone tries to remove an element, return a message saying the stack is empty and no element can be removed.<br>\n",
        "\n",
        "<b>Note:</b> Stack follows FIFO (first in first out) rule"
      ]
    },
    {
      "cell_type": "code",
      "execution_count": null,
      "id": "da16794b",
      "metadata": {
        "id": "da16794b"
      },
      "outputs": [],
      "source": []
    },
    {
      "cell_type": "markdown",
      "id": "c34f3ddd",
      "metadata": {
        "id": "c34f3ddd"
      },
      "source": [
        "### Question 8\n",
        "\n",
        "Create a function which will take list as an input argument! If a number can be divided evenly by 3, print \"fizz.\" If it can be divided evenly by 5, print \"buzz.\" And if it can be divided evenly by both 3 and 5, print \"fizzbuzz.\"<br>\n",
        "<b>Note:</b>Use max two conditional statements."
      ]
    },
    {
      "cell_type": "code",
      "execution_count": null,
      "id": "483439fb",
      "metadata": {
        "id": "483439fb"
      },
      "outputs": [],
      "source": []
    }
  ],
  "metadata": {
    "kernelspec": {
      "display_name": "Python 3 (ipykernel)",
      "language": "python",
      "name": "python3"
    },
    "language_info": {
      "codemirror_mode": {
        "name": "ipython",
        "version": 3
      },
      "file_extension": ".py",
      "mimetype": "text/x-python",
      "name": "python",
      "nbconvert_exporter": "python",
      "pygments_lexer": "ipython3",
      "version": "3.10.9"
    },
    "colab": {
      "provenance": []
    }
  },
  "nbformat": 4,
  "nbformat_minor": 5
}