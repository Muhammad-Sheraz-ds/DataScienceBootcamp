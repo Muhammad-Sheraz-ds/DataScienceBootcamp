{
  "nbformat": 4,
  "nbformat_minor": 0,
  "metadata": {
    "colab": {
      "provenance": []
    },
    "kernelspec": {
      "name": "python3",
      "display_name": "Python 3"
    },
    "language_info": {
      "name": "python"
    }
  },
  "cells": [
    {
      "cell_type": "code",
      "execution_count": null,
      "metadata": {
        "id": "s2QYxIVmnK1e",
        "colab": {
          "base_uri": "https://localhost:8080/"
        },
        "outputId": "beddf181-5ec2-4ad7-87ab-8dbaa652ef35"
      },
      "outputs": [
        {
          "output_type": "stream",
          "name": "stdout",
          "text": [
            "\n",
            "Menu:\n",
            "1. Enqueue\n",
            "2. Dequeue\n",
            "3. Exit\n",
            "Enter your choice: 1\n",
            "Enter the element to enqueue: 20\n",
            "Queue after enqueue: [20]\n",
            "\n",
            "Menu:\n",
            "1. Enqueue\n",
            "2. Dequeue\n",
            "3. Exit\n",
            "Enter your choice: 1\n",
            "Enter the element to enqueue: 30\n",
            "Queue after enqueue: [20, 30]\n",
            "\n",
            "Menu:\n",
            "1. Enqueue\n",
            "2. Dequeue\n",
            "3. Exit\n",
            "Enter your choice: 1\n",
            "Enter the element to enqueue: 40\n",
            "Queue after enqueue: [20, 30, 40]\n",
            "\n",
            "Menu:\n",
            "1. Enqueue\n",
            "2. Dequeue\n",
            "3. Exit\n",
            "Enter your choice: 2\n",
            "Dequeued: 20\n",
            "Queue after dequeue: [30, 40]\n",
            "\n",
            "Menu:\n",
            "1. Enqueue\n",
            "2. Dequeue\n",
            "3. Exit\n"
          ]
        }
      ],
      "source": [
        "def enqueue(queue, item):\n",
        "    if len(queue) < 10:\n",
        "        queue.append(item)\n",
        "    else:\n",
        "        print(\"Queue is full. Cannot enqueue.\")\n",
        "\n",
        "def dequeue(queue):\n",
        "    if len(queue) > 0:\n",
        "        return queue.pop(0)\n",
        "    else:\n",
        "        print(\"Queue is empty\")\n",
        "        return None\n",
        "\n",
        "def menu():\n",
        "    print(\"\\nMenu:\")\n",
        "    print(\"1. Enqueue\")\n",
        "    print(\"2. Dequeue\")\n",
        "    print(\"3. Exit\")\n",
        "\n",
        "my_queue = []\n",
        "\n",
        "while True:\n",
        "    menu()\n",
        "    choice = input(\"Enter your choice: \")\n",
        "\n",
        "    if choice == \"1\":\n",
        "        n = int(input(\"Enter the element to enqueue: \"))\n",
        "        enqueue(my_queue, n)\n",
        "        print(\"Queue after enqueue:\", my_queue)\n",
        "\n",
        "    elif choice == \"2\":\n",
        "        dequeued_item = dequeue(my_queue)\n",
        "        if dequeued_item is not None:\n",
        "            print(\"Dequeued:\", dequeued_item)\n",
        "            print(\"Queue after Dequeue:\", my_queue)\n",
        "\n",
        "    elif choice == \"3\":\n",
        "        print(\"Exiting the program.\")\n",
        "        break\n",
        "\n",
        "    else:\n",
        "        print(\"Invalid choice. Please enter 1, 2, or 3.\")\n"
      ]
    },
    {
      "cell_type": "code",
      "source": [
        "import numpy as np\n",
        "queue=np.array([])\n",
        "size=10\n",
        "\n",
        "def enqueue(n):\n",
        "  if len(queue)==size:\n",
        "    print(\"Sorry! Queue is full\")\n",
        "  else:\n",
        "    np.append(queue,n)\n",
        "    return\n",
        "\n",
        "\n",
        "\n",
        "print(queue)\n",
        "queue=enqueue(1)\n",
        "print(queue)\n"
      ],
      "metadata": {
        "colab": {
          "base_uri": "https://localhost:8080/"
        },
        "id": "oDvdsv4KRTNp",
        "outputId": "c711f5bb-95d1-4e03-b814-c3679a6c9173"
      },
      "execution_count": 2,
      "outputs": [
        {
          "output_type": "stream",
          "name": "stdout",
          "text": [
            "[]\n",
            "[]\n"
          ]
        }
      ]
    }
  ]
}