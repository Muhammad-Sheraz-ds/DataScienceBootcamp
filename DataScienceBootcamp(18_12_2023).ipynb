{
  "nbformat": 4,
  "nbformat_minor": 0,
  "metadata": {
    "colab": {
      "provenance": []
    },
    "kernelspec": {
      "name": "python3",
      "display_name": "Python 3"
    },
    "language_info": {
      "name": "python"
    }
  },
  "cells": [
    {
      "cell_type": "markdown",
      "source": [
        "Write a program which will find all such numbers which are divisible by 7 but are not a multiple of 5, between 2000 and 3200 (both included).\n",
        "The numbers obtained should be printed in a comma-separated sequence on a single line."
      ],
      "metadata": {
        "id": "GY8jQIyGFNbY"
      }
    },
    {
      "cell_type": "code",
      "source": [
        "result=[]\n",
        "for i in range(2000,3200):\n",
        "  if i%7==0 and i%5!=0:\n",
        "    result.append(str(i));\n",
        "\n",
        "print(','.join(result))\n",
        "\n",
        "\n"
      ],
      "metadata": {
        "colab": {
          "base_uri": "https://localhost:8080/"
        },
        "id": "MM4gZNYmFRjx",
        "outputId": "7844c3b8-7a5e-42b7-866c-58227bd350a6"
      },
      "execution_count": null,
      "outputs": [
        {
          "output_type": "stream",
          "name": "stdout",
          "text": [
            "2002,2009,2016,2023,2037,2044,2051,2058,2072,2079,2086,2093,2107,2114,2121,2128,2142,2149,2156,2163,2177,2184,2191,2198,2212,2219,2226,2233,2247,2254,2261,2268,2282,2289,2296,2303,2317,2324,2331,2338,2352,2359,2366,2373,2387,2394,2401,2408,2422,2429,2436,2443,2457,2464,2471,2478,2492,2499,2506,2513,2527,2534,2541,2548,2562,2569,2576,2583,2597,2604,2611,2618,2632,2639,2646,2653,2667,2674,2681,2688,2702,2709,2716,2723,2737,2744,2751,2758,2772,2779,2786,2793,2807,2814,2821,2828,2842,2849,2856,2863,2877,2884,2891,2898,2912,2919,2926,2933,2947,2954,2961,2968,2982,2989,2996,3003,3017,3024,3031,3038,3052,3059,3066,3073,3087,3094,3101,3108,3122,3129,3136,3143,3157,3164,3171,3178,3192,3199\n"
          ]
        }
      ]
    },
    {
      "cell_type": "markdown",
      "source": [
        "\n",
        "Question:\n",
        "Write a program which can compute the factorial of a given numbers.\n",
        "The results should be printed in a comma-separated sequence on a single line.\n",
        "Suppose the following input is supplied to the program:\n",
        "8\n",
        "Then, the output should be:\n",
        "40320\n"
      ],
      "metadata": {
        "id": "ROdYHOBVHOOE"
      }
    },
    {
      "cell_type": "code",
      "source": [
        "def factorial(num):\n",
        "  if num==0 or num==1:\n",
        "    return 1;\n",
        "  else:\n",
        "    return num * factorial(num-1);\n",
        "\n",
        "\n",
        "number=int(input(\"Enter Factorial number: \"))\n",
        "result=factorial(number);\n",
        "print(\"The factorial is: \",result);\n",
        "\n"
      ],
      "metadata": {
        "colab": {
          "base_uri": "https://localhost:8080/"
        },
        "id": "7qMlDhesHUl2",
        "outputId": "3153b7a4-cd66-4d31-a88e-26ac0ac1c1aa"
      },
      "execution_count": null,
      "outputs": [
        {
          "output_type": "stream",
          "name": "stdout",
          "text": [
            "Enter Factorial number: 8\n",
            "The factorial is:  40320\n"
          ]
        }
      ]
    },
    {
      "cell_type": "markdown",
      "source": [
        "Question:\n",
        "With a given integral number n, write a program to generate a dictionary that contains (i, i*i) such that is an integral number between 1 and n (both included). and then the program should print the dictionary.\n",
        "Suppose the following input is supplied to the program:\n",
        "8\n",
        "Then, the output should be:\n",
        "{1: 1, 2: 4, 3: 9, 4: 16, 5: 25, 6: 36, 7: 49, 8: 64}"
      ],
      "metadata": {
        "id": "ENpX6VykJ-p9"
      }
    },
    {
      "cell_type": "code",
      "source": [
        "dictionary={\"\":\"\"};\n",
        "n=int(input(\"Enter a number: \"))\n",
        "dictionary={i:i*i for i in range(1,n+1)}\n",
        "print(dictionary)"
      ],
      "metadata": {
        "colab": {
          "base_uri": "https://localhost:8080/"
        },
        "id": "HExmIPYCKupW",
        "outputId": "91c40e71-c0fd-4130-be93-9a7f5fdb3509"
      },
      "execution_count": null,
      "outputs": [
        {
          "output_type": "stream",
          "name": "stdout",
          "text": [
            "Enter a number: 8\n",
            "{1: 1, 2: 4, 3: 9, 4: 16, 5: 25, 6: 36, 7: 49, 8: 64}\n"
          ]
        }
      ]
    },
    {
      "cell_type": "markdown",
      "source": [
        "Write a program which accepts a sequence of comma-separated numbers from console and generate a list and a tuple which contains every number.\n",
        "Suppose the following input is supplied to the program:\n",
        "34,67,55,33,12,98\n",
        "Then, the output should be:\n",
        "['34', '67', '55', '33', '12', '98']\n",
        "('34', '67', '55', '33', '12', '98')"
      ],
      "metadata": {
        "id": "Mza_c7BiMsxp"
      }
    },
    {
      "cell_type": "code",
      "source": [
        "string = '';\n",
        "listt=[]\n",
        "string=input(\"Enter: \");\n",
        "listt=string.split(',')\n",
        "tuplee=tuple(listt)\n",
        "print(listt);\n",
        "print(tuplee)\n"
      ],
      "metadata": {
        "colab": {
          "base_uri": "https://localhost:8080/"
        },
        "id": "FHPc4eJDMuds",
        "outputId": "7573cb87-34d4-4e62-f3bd-dc992ea18d02"
      },
      "execution_count": null,
      "outputs": [
        {
          "output_type": "stream",
          "name": "stdout",
          "text": [
            "Enter: 34,67,55,33,12,98\n",
            "['34', '67', '55', '33', '12', '98']\n",
            "('34', '67', '55', '33', '12', '98')\n"
          ]
        }
      ]
    },
    {
      "cell_type": "markdown",
      "source": [
        "Question:\n",
        "Define a class which has at least two methods:\n",
        "getString: to get a string from console input\n",
        "printString: to print the string in upper case.\n",
        "Also please include simple test function to test the class methods."
      ],
      "metadata": {
        "id": "Mlpkn3RPP4en"
      }
    },
    {
      "cell_type": "code",
      "source": [
        "class StringManipulation:\n",
        "  def __init__(self):\n",
        "    self.input_string=\"\"\n",
        "\n",
        "  def getString(self):\n",
        "    self.input_string=input(\"Enter a string: \")\n",
        "\n",
        "  def printString(self):\n",
        "    print(\"String in uppercase: \",self.input_string.upper())\n",
        "\n",
        "\n",
        "\n",
        "def testStringManipulation():\n",
        "  string_manipulator=StringManipulation()\n",
        "  string_manipulator.getString()\n",
        "  string_manipulator.printString()\n",
        "\n",
        "\n",
        "testStringManipulation()"
      ],
      "metadata": {
        "colab": {
          "base_uri": "https://localhost:8080/"
        },
        "id": "30xgR1QVQBwR",
        "outputId": "47ba9f7c-91df-4a37-92bd-9461d30af9ca"
      },
      "execution_count": null,
      "outputs": [
        {
          "output_type": "stream",
          "name": "stdout",
          "text": [
            "Enter a string: usman\n",
            "String in uppercase:  USMAN\n"
          ]
        }
      ]
    },
    {
      "cell_type": "markdown",
      "source": [
        "\n",
        "Question:\n",
        "Write a program that calculates and prints the value according to the given formula:\n",
        "Q = Square root of [(2 * C * D)/H]\n",
        "Following are the fixed values of C and H:\n",
        "C is 50. H is 30.\n",
        "D is the variable whose values should be input to your program in a comma-separated sequence.\n",
        "Example\n",
        "Let us assume the following comma separated input sequence is given to the program:\n",
        "100,150,180\n",
        "The output of the program should be:\n",
        "18,22,24\n",
        "\n",
        "Hints:\n",
        "If the output received is in decimal form, it should be rounded off to its nearest value (for example, if the output received is 26.0, it should be printed as 26)\n",
        "In case of input data being supplied to the question, it should be assumed to be a console input.\n"
      ],
      "metadata": {
        "id": "kXIGQM3SkuKc"
      }
    },
    {
      "cell_type": "code",
      "source": [
        "import math\n",
        "\n",
        "C = 50\n",
        "H = 30\n",
        "\n",
        "input_sequence = input(\"Enter comma-separated values for D: \")\n",
        "D_values = [float(value) for value in input_sequence.split(',')]\n",
        "result_values = [round(math.sqrt((2 * C * D) / H)) for D in D_values]\n",
        "print(','.join(map(str, result_values)))\n"
      ],
      "metadata": {
        "colab": {
          "base_uri": "https://localhost:8080/"
        },
        "id": "3Ph3Zpctk5HE",
        "outputId": "7ad830c3-a674-4d8c-9c9c-df068dac72b1"
      },
      "execution_count": null,
      "outputs": [
        {
          "output_type": "stream",
          "name": "stdout",
          "text": [
            "Enter comma-separated values for D: 100,150,180\n",
            "18,22,24\n"
          ]
        }
      ]
    },
    {
      "cell_type": "markdown",
      "source": [
        "Question:\n",
        "Write a program which takes 2 digits, X,Y as input and generates a 2-dimensional array. The element value in the i-th row and j-th column of the array should be i*j.\n",
        "Note: i=0,1.., X-1; j=0,1,¡­Y-1.\n",
        "Example\n",
        "Suppose the following inputs are given to the program:\n",
        "3,5\n",
        "Then, the output of the program should be:\n",
        "[[0, 0, 0, 0, 0], [0, 1, 2, 3, 4], [0, 2, 4, 6, 8]]\n"
      ],
      "metadata": {
        "id": "Ich6dgbDw570"
      }
    },
    {
      "cell_type": "code",
      "source": [
        "X, Y = map(int, input(\"Enter two digits (X and Y) separated by a comma: \").split(','))\n",
        "result_array = [[i * j for j in range(Y)] for i in range(X)]\n",
        "print(result_array)\n"
      ],
      "metadata": {
        "colab": {
          "base_uri": "https://localhost:8080/"
        },
        "id": "1LYhBrkmxA19",
        "outputId": "cc3e03f0-1e4e-481c-a953-0733bc549515"
      },
      "execution_count": null,
      "outputs": [
        {
          "output_type": "stream",
          "name": "stdout",
          "text": [
            "Enter two digits (X and Y) separated by a comma: 3,5\n",
            "[[0, 0, 0, 0, 0], [0, 1, 2, 3, 4], [0, 2, 4, 6, 8]]\n"
          ]
        }
      ]
    },
    {
      "cell_type": "markdown",
      "source": [
        "\n",
        "Question:\n",
        "Write a program that accepts a comma separated sequence of words as input and prints the words in a comma-separated sequence after sorting them alphabetically.\n",
        "Suppose the following input is supplied to the program:\n",
        "without,hello,bag,world\n",
        "Then, the output should be:\n",
        "bag,hello,without,world"
      ],
      "metadata": {
        "id": "4cAx-clHy8TK"
      }
    },
    {
      "cell_type": "code",
      "source": [
        "string =input(\"Enter Words using comma: \")\n",
        "words=string.split(',')\n",
        "sorted_words=sorted(words)\n",
        "print(','.join(sorted_words))\n",
        "\n"
      ],
      "metadata": {
        "colab": {
          "base_uri": "https://localhost:8080/"
        },
        "id": "Fd1riZVzzHHC",
        "outputId": "a8303573-2e7e-4c98-df33-082141d45355"
      },
      "execution_count": null,
      "outputs": [
        {
          "output_type": "stream",
          "name": "stdout",
          "text": [
            "Enter Words using comma: without,hello,bag,world\n",
            "bag,hello,without,world\n"
          ]
        }
      ]
    },
    {
      "cell_type": "markdown",
      "source": [
        "Question£º\n",
        "Write a program that accepts sequence of lines as input and prints the lines after making all characters in the sentence capitalized.\n",
        "Suppose the following input is supplied to the program:\n",
        "Hello world\n",
        "Practice makes perfect\n",
        "Then, the output should be:\n",
        "HELLO WORLD\n",
        "PRACTICE MAKES PERFECT\n"
      ],
      "metadata": {
        "id": "VjQHqyt11yQB"
      }
    },
    {
      "cell_type": "code",
      "source": [
        "line=input(\"Enter a Line: \")\n",
        "line=line.upper()\n",
        "print(line)"
      ],
      "metadata": {
        "colab": {
          "base_uri": "https://localhost:8080/"
        },
        "id": "q12bp7qt16OM",
        "outputId": "be16e79c-60fa-4ee0-f416-38d20213f0ca"
      },
      "execution_count": null,
      "outputs": [
        {
          "output_type": "stream",
          "name": "stdout",
          "text": [
            "Enter a Line: Hello world Practice makes perfect \n",
            "HELLO WORLD PRACTICE MAKES PERFECT \n"
          ]
        }
      ]
    },
    {
      "cell_type": "markdown",
      "source": [
        "Question:\n",
        "Write a program that accepts a sequence of whitespace separated words as input and prints the words after removing all duplicate words and sorting them alphanumerically.\n",
        "Suppose the following input is supplied to the program:\n",
        "hello world and practice makes perfect and hello world again\n",
        "Then, the output should be:\n",
        "again and hello makes perfect practice world"
      ],
      "metadata": {
        "id": "1LPGqJce3Ool"
      }
    },
    {
      "cell_type": "code",
      "source": [
        "word = input(\"Enter the words: \")\n",
        "words = word.split(\" \")\n",
        "sorted_words = sorted(set(words))\n",
        "print(' '.join(sorted_words))\n"
      ],
      "metadata": {
        "colab": {
          "base_uri": "https://localhost:8080/"
        },
        "id": "6ywrADWp3Qc0",
        "outputId": "02b16288-57bf-415f-9ca8-dc7c74e14644"
      },
      "execution_count": null,
      "outputs": [
        {
          "output_type": "stream",
          "name": "stdout",
          "text": [
            "Enter the words: hello world and practice makes perfect and hello world again\n",
            "again and hello makes perfect practice world\n"
          ]
        }
      ]
    },
    {
      "cell_type": "markdown",
      "source": [
        "Question:\n",
        "Write a program which accepts a sequence of comma separated 4 digit binary numbers as its input and then check whether they are divisible by 5 or not. The numbers that are divisible by 5 are to be printed in a comma separated sequence.\n",
        "Example:\n",
        "0100,0011,1010,1001\n",
        "Then the output should be:\n",
        "1010\n",
        "Notes: Assume the data is input by console."
      ],
      "metadata": {
        "id": "X3wBecnL7zUK"
      }
    },
    {
      "cell_type": "code",
      "source": [
        "binary_numbers = input(\"Enter comma-separated 4-digit binary numbers: \").split(',')\n",
        "divisible_by_5 = []\n",
        "for binary_number in binary_numbers:\n",
        "    decimal_number = int(binary_number, 2)\n",
        "    if decimal_number % 5 == 0:\n",
        "        divisible_by_5.append(binary_number)\n",
        "print(','.join(divisible_by_5))\n"
      ],
      "metadata": {
        "colab": {
          "base_uri": "https://localhost:8080/"
        },
        "id": "ttn2K0va72cW",
        "outputId": "a5448bb0-6add-49ad-ec4d-985247b4535b"
      },
      "execution_count": null,
      "outputs": [
        {
          "output_type": "stream",
          "name": "stdout",
          "text": [
            "Enter comma-separated 4-digit binary numbers: 0100,0011,1010,1001\n",
            "1010\n"
          ]
        }
      ]
    },
    {
      "cell_type": "markdown",
      "source": [
        "\n",
        "Question:\n",
        "Write a program, which will find all such numbers between 1000 and 3000 (both included) such that each digit of the number is an even number.\n",
        "The numbers obtained should be printed in a comma-separated sequence on a single line."
      ],
      "metadata": {
        "id": "YdTVnHms_ak4"
      }
    },
    {
      "cell_type": "code",
      "source": [
        "\n",
        "even_digit_numbers = []\n",
        "for number in range(1000, 3001):\n",
        "    if all(int(digit) % 2 == 0 for digit in str(number)):\n",
        "        even_digit_numbers.append(str(number))\n",
        "print(','.join(even_digit_numbers))\n"
      ],
      "metadata": {
        "colab": {
          "base_uri": "https://localhost:8080/"
        },
        "id": "7xWjFTSB_dfQ",
        "outputId": "c6aab2cd-8460-48f6-af26-e684bc03a151"
      },
      "execution_count": null,
      "outputs": [
        {
          "output_type": "stream",
          "name": "stdout",
          "text": [
            "2000,2002,2004,2006,2008,2020,2022,2024,2026,2028,2040,2042,2044,2046,2048,2060,2062,2064,2066,2068,2080,2082,2084,2086,2088,2200,2202,2204,2206,2208,2220,2222,2224,2226,2228,2240,2242,2244,2246,2248,2260,2262,2264,2266,2268,2280,2282,2284,2286,2288,2400,2402,2404,2406,2408,2420,2422,2424,2426,2428,2440,2442,2444,2446,2448,2460,2462,2464,2466,2468,2480,2482,2484,2486,2488,2600,2602,2604,2606,2608,2620,2622,2624,2626,2628,2640,2642,2644,2646,2648,2660,2662,2664,2666,2668,2680,2682,2684,2686,2688,2800,2802,2804,2806,2808,2820,2822,2824,2826,2828,2840,2842,2844,2846,2848,2860,2862,2864,2866,2868,2880,2882,2884,2886,2888\n"
          ]
        }
      ]
    }
  ]
}